{
 "metadata": {
  "language_info": {
   "codemirror_mode": {
    "name": "ipython",
    "version": 3
   },
   "file_extension": ".py",
   "mimetype": "text/x-python",
   "name": "python",
   "nbconvert_exporter": "python",
   "pygments_lexer": "ipython3",
   "version": "3.7.4-final"
  },
  "orig_nbformat": 2,
  "kernelspec": {
   "name": "python_defaultSpec_1600798280077",
   "display_name": "Python 3.7.4 64-bit"
  }
 },
 "nbformat": 4,
 "nbformat_minor": 2,
 "cells": [
  {
   "source": [
    "# Predicting Bible passage and authors using Machine learning\n",
    "\n",
    "Dataset: Bible KJV"
   ],
   "cell_type": "markdown",
   "metadata": {}
  },
  {
   "cell_type": "code",
   "execution_count": 23,
   "metadata": {},
   "outputs": [],
   "source": [
    "import pandas as pd\n",
    "import joblib"
   ]
  },
  {
   "cell_type": "code",
   "execution_count": 1,
   "metadata": {},
   "outputs": [],
   "source": [
    "from sklearn.feature_extraction.text import CountVectorizer #convert text into numbers\n",
    "\n",
    "from sklearn.naive_bayes import MultinomialNB\n",
    "from sklearn.linear_model import LogisticRegression\n",
    "\n",
    "from sklearn.model_selection import train_test_split\n",
    "from sklearn.metrics import accuracy_score #get accuracy of model"
   ]
  },
  {
   "cell_type": "code",
   "execution_count": 12,
   "metadata": {},
   "outputs": [
    {
     "output_type": "execute_result",
     "data": {
      "text/plain": "       Unnamed: 0        id        book  chapter  verse  \\\n0               0   1001001     Genesis        1      1   \n1               1   1001002     Genesis        1      2   \n2               2   1001003     Genesis        1      3   \n3               3   1001004     Genesis        1      4   \n4               4   1001005     Genesis        1      5   \n...           ...       ...         ...      ...    ...   \n31098       31098  66022017  Revelation       22     17   \n31099       31099  66022018  Revelation       22     18   \n31100       31100  66022019  Revelation       22     19   \n31101       31101  66022020  Revelation       22     20   \n31102       31102  66022021  Revelation       22     21   \n\n                                                    text  \n0      In the beginning God created the heaven and th...  \n1      And the earth was without form, and void; and ...  \n2      And God said, Let there be light: and there wa...  \n3      And God saw the light, that it was good: and G...  \n4      And God called the light Day, and the darkness...  \n...                                                  ...  \n31098  And the Spirit and the bride say, Come. And le...  \n31099  For I testify unto every man that heareth the ...  \n31100  And if any man shall take away from the words ...  \n31101  He which testifieth these things saith, Surely...  \n31102  The grace of our Lord Jesus Christ be with you...  \n\n[31103 rows x 6 columns]",
      "text/html": "<div>\n<style scoped>\n    .dataframe tbody tr th:only-of-type {\n        vertical-align: middle;\n    }\n\n    .dataframe tbody tr th {\n        vertical-align: top;\n    }\n\n    .dataframe thead th {\n        text-align: right;\n    }\n</style>\n<table border=\"1\" class=\"dataframe\">\n  <thead>\n    <tr style=\"text-align: right;\">\n      <th></th>\n      <th>Unnamed: 0</th>\n      <th>id</th>\n      <th>book</th>\n      <th>chapter</th>\n      <th>verse</th>\n      <th>text</th>\n    </tr>\n  </thead>\n  <tbody>\n    <tr>\n      <th>0</th>\n      <td>0</td>\n      <td>1001001</td>\n      <td>Genesis</td>\n      <td>1</td>\n      <td>1</td>\n      <td>In the beginning God created the heaven and th...</td>\n    </tr>\n    <tr>\n      <th>1</th>\n      <td>1</td>\n      <td>1001002</td>\n      <td>Genesis</td>\n      <td>1</td>\n      <td>2</td>\n      <td>And the earth was without form, and void; and ...</td>\n    </tr>\n    <tr>\n      <th>2</th>\n      <td>2</td>\n      <td>1001003</td>\n      <td>Genesis</td>\n      <td>1</td>\n      <td>3</td>\n      <td>And God said, Let there be light: and there wa...</td>\n    </tr>\n    <tr>\n      <th>3</th>\n      <td>3</td>\n      <td>1001004</td>\n      <td>Genesis</td>\n      <td>1</td>\n      <td>4</td>\n      <td>And God saw the light, that it was good: and G...</td>\n    </tr>\n    <tr>\n      <th>4</th>\n      <td>4</td>\n      <td>1001005</td>\n      <td>Genesis</td>\n      <td>1</td>\n      <td>5</td>\n      <td>And God called the light Day, and the darkness...</td>\n    </tr>\n    <tr>\n      <th>...</th>\n      <td>...</td>\n      <td>...</td>\n      <td>...</td>\n      <td>...</td>\n      <td>...</td>\n      <td>...</td>\n    </tr>\n    <tr>\n      <th>31098</th>\n      <td>31098</td>\n      <td>66022017</td>\n      <td>Revelation</td>\n      <td>22</td>\n      <td>17</td>\n      <td>And the Spirit and the bride say, Come. And le...</td>\n    </tr>\n    <tr>\n      <th>31099</th>\n      <td>31099</td>\n      <td>66022018</td>\n      <td>Revelation</td>\n      <td>22</td>\n      <td>18</td>\n      <td>For I testify unto every man that heareth the ...</td>\n    </tr>\n    <tr>\n      <th>31100</th>\n      <td>31100</td>\n      <td>66022019</td>\n      <td>Revelation</td>\n      <td>22</td>\n      <td>19</td>\n      <td>And if any man shall take away from the words ...</td>\n    </tr>\n    <tr>\n      <th>31101</th>\n      <td>31101</td>\n      <td>66022020</td>\n      <td>Revelation</td>\n      <td>22</td>\n      <td>20</td>\n      <td>He which testifieth these things saith, Surely...</td>\n    </tr>\n    <tr>\n      <th>31102</th>\n      <td>31102</td>\n      <td>66022021</td>\n      <td>Revelation</td>\n      <td>22</td>\n      <td>21</td>\n      <td>The grace of our Lord Jesus Christ be with you...</td>\n    </tr>\n  </tbody>\n</table>\n<p>31103 rows × 6 columns</p>\n</div>"
     },
     "metadata": {},
     "execution_count": 12
    }
   ],
   "source": [
    "df= pd.read_csv(\"kjvdata.csv\")\n",
    "\n",
    "df"
   ]
  },
  {
   "cell_type": "code",
   "execution_count": 9,
   "metadata": {},
   "outputs": [],
   "source": [
    "# The list of authors\n",
    "\n",
    "author_list = {\"Genesis\": \"Moses\",\n",
    "\"Exodus\": \"Moses\",\n",
    "\"Leviticus\": \"Moses\",\n",
    "\"Numbers\": \"Moses\",\n",
    "\"Deuteronomy\": \"Moses\",\n",
    "\"Joshua\": \"Joshua\",\n",
    "\"Judges\": \"Samuel, Nathan, Gad\",\n",
    "\"Ruth\": \"Samuel, Nathan, Gad\",\n",
    "\"1 Samuel (1 Kings)\": \"Samuel, Nathan, Gad\",\n",
    "\"2 Samuel (2 Kings)\": \"Samuel, Nathan, Gad\",\n",
    "\"1 Kings (3 Kings)\": \"Jeremiah\",\n",
    "\"2 Kings (4 Kings)\": \"Jeremiah\",\n",
    "\"1 Chronicles\": \"Ezra\",\n",
    "\"2 Chronicles\": \"Ezra\",\n",
    "\"Ezra\": \"Ezra\",\n",
    "\"Nehemiah\": \"Nehemiah, Ezra\",\n",
    "\"Esther\": \"Mordecai\",\n",
    "\"Job\": \"Job,Moses\",\n",
    "\"Psalms\": \"David,Asaph, Ezra, the sons of Korah, Heman, Ethan, Moses\",\n",
    "\"Proverbs\": \"Solomon ,Agur(30) and Lemuel(31)\",\n",
    "\"Ecclesiastes\": \"Solomon\",\n",
    "\"Song of Solomon (Canticles)\": \"Solomon\",\n",
    "\"Isaiah\": \"Isaiah\",\n",
    "\"Jeremiah\": \"Jeremiah\",\n",
    "\"Lamentations\": \"Jeremiah\",\n",
    "\"Ezekiel\": \"Ezekiel\",\n",
    "\"Daniel\": \"Daniel\",\n",
    "\"Hosea\": \"Hosea\",\n",
    "\"Joel\": \"Joel\",\n",
    "\"Amos\": \"Amos\",\n",
    "\"Obadiah\": \"Obadiah\",\n",
    "\"Jonah\": \"Jonah\",\n",
    "\"Micah\": \"Micah\",\n",
    "\"Nahum\": \"Nahum\",\n",
    "\"Habakkuk\": \"Habakkuk\",\n",
    "\"Zephaniah\": \"Zephaniah\",\n",
    "\"Haggai\": \"Haggai\",\n",
    "\"Zechariah\": \" Zechariah\",\n",
    "\"Malachi\": \"Malachi\",\n",
    "\"Matthew\": \"Matthew\",\n",
    "\"Mark\": \"John Mark\",\n",
    "\"Luke\": \"Luke\",\n",
    "\"John\": \"John, the Apostle\",\n",
    "\"Acts\": \"Luke\",\n",
    "\"Romans\": \"Paul\",\n",
    "\"1 Corinthians\": \"Paul\",\n",
    "\"2 Corinthians\": \"Paul\",\n",
    "\"Galatians\": \"Paul\",\n",
    "\"Ephesians\": \"Paul\",\n",
    "\"Philippians\": \"Paul\",\n",
    "\"Colossians\": \"Paul\",\n",
    "\"1 Thessalonians\": \"Paul\",\n",
    "\"2 Thessalonians\": \"Paul\",\n",
    "\"1 Timothy\": \"Paul\",\n",
    "\"2 Timothy\": \"Paul\",\n",
    "\"Titus\": \"Paul\",\n",
    "\"Philemon\": \"Paul\",\n",
    "\"Hebrews\": \"Paul, Luke, Barnabas, Apollos\",\n",
    "\"James\": \"James the brother of Jesus and Jude (not the Apostle, brother of John).\",\n",
    "\"1 Peter\": \"Peter\",\n",
    "\"2 Peter\": \"Peter\",\n",
    "\"1 John\": \"John, the Apostle\",\n",
    "\"2 John\": \"John, the Apostle\",\n",
    "\"3 John\": \"John, the Apostle\",\n",
    "\"Jude\": \"Jude, the brother of Jesus\",\n",
    "\"Revelation\": \"John, the Apostle\"}"
   ]
  },
  {
   "cell_type": "code",
   "execution_count": 13,
   "metadata": {},
   "outputs": [],
   "source": [
    "# maps books to authors\n",
    "df['authors']= df['book'].map(author_list)"
   ]
  },
  {
   "cell_type": "code",
   "execution_count": 18,
   "metadata": {},
   "outputs": [],
   "source": [
    "df_new= df"
   ]
  },
  {
   "cell_type": "code",
   "execution_count": 21,
   "metadata": {},
   "outputs": [
    {
     "output_type": "execute_result",
     "data": {
      "text/plain": "Unnamed: 0                                                23144\nid                                                     39004006\nbook                                                    Malachi\nchapter                                                       4\nverse                                                         6\ntext          And he shall turn the heart of the fathers to ...\nauthors                                                 Malachi\nlabel                                                         0\nName: 23144, dtype: object"
     },
     "metadata": {},
     "execution_count": 21
    }
   ],
   "source": [
    "df_new.loc[23144]"
   ]
  },
  {
   "cell_type": "code",
   "execution_count": null,
   "metadata": {},
   "outputs": [],
   "source": [
    "# Label the old testament and the new testaments\n",
    "# 23144 = OT"
   ]
  },
  {
   "cell_type": "code",
   "execution_count": 20,
   "metadata": {},
   "outputs": [],
   "source": [
    "# old testament\n",
    "df_new.loc[0:23144, 'label']=0\n",
    "\n",
    "# new testament\n",
    "df_new.loc[23145:, 'label']= 1"
   ]
  },
  {
   "cell_type": "code",
   "execution_count": 22,
   "metadata": {},
   "outputs": [],
   "source": [
    "# Create feautures\n",
    "\n",
    "Xfeatures = df_new['text']\n",
    "ylabel =df_new['authors']"
   ]
  },
  {
   "source": [
    "# Scikit-learn’s CountVectorizer is used to convert a collection of text documents to a vector of term/token counts"
   ],
   "cell_type": "markdown",
   "metadata": {}
  },
  {
   "cell_type": "code",
   "execution_count": 26,
   "metadata": {},
   "outputs": [],
   "source": [
    "# Vectorization to turn text to vectors\n",
    "cv = CountVectorizer()\n",
    "X= cv.fit_transform(Xfeatures)"
   ]
  },
  {
   "cell_type": "code",
   "execution_count": 27,
   "metadata": {},
   "outputs": [],
   "source": [
    "#  save vectorizers \n",
    "bible_author_vectorizer= open(\"bible_author_vectorizer.pkl\", \"wb\") #A PKL file is a file created by pickle, a Python module that enabless objects to be serialized to files on disk \n",
    "\n",
    "joblib.dump(cv, bible_author_vectorizer)"
   ]
  },
  {
   "cell_type": "code",
   "execution_count": 30,
   "metadata": {},
   "outputs": [],
   "source": [
    "bible_author_vectorizer.close()\n"
   ]
  },
  {
   "cell_type": "code",
   "execution_count": 29,
   "metadata": {},
   "outputs": [],
   "source": [
    " x_train, x_test, y_train, y_test= train_test_split(X, ylabel, test_size= 0.33, random_state=42)"
   ]
  },
  {
   "cell_type": "code",
   "execution_count": 31,
   "metadata": {},
   "outputs": [],
   "source": [
    "# Model building for naive bayes\n",
    "\n",
    "nb= MultinomialNB()\n",
    "\n",
    "nb_model= nb.fit(x_train, y_train)"
   ]
  },
  {
   "cell_type": "code",
   "execution_count": null,
   "metadata": {},
   "outputs": [],
   "source": [
    "# check the accuracy score"
   ]
  }
 ]
}